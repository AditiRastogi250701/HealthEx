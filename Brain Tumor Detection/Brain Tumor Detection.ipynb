{
 "cells": [
  {
   "cell_type": "code",
   "execution_count": 42,
   "id": "01dcbc51",
   "metadata": {},
   "outputs": [],
   "source": [
    "import sys\n",
    "import os\n",
    "import numpy as np\n",
    "import pandas as pd\n",
    "import matplotlib.pyplot as plt\n",
    "import seaborn as sns\n",
    "import cv2\n",
    "import shutil\n",
    "import tensorflow as tf\n",
    "import PIL.Image as Image\n",
    "from tensorflow import keras\n",
    "from tensorflow.keras.applications.imagenet_utils import decode_predictions\n",
    "from tensorflow.keras.applications import *\n",
    "from tensorflow.keras import models\n",
    "from tensorflow.keras import layers\n",
    "from keras.preprocessing.image import ImageDataGenerator\n",
    "from sklearn import model_selection\n",
    "from tqdm import tqdm\n",
    "from tensorflow.keras import optimizers"
   ]
  },
  {
   "cell_type": "code",
   "execution_count": 43,
   "id": "89cd9f44",
   "metadata": {},
   "outputs": [
    {
     "name": "stdout",
     "output_type": "stream",
     "text": [
      "Downloading data from https://storage.googleapis.com/keras-applications/efficientnetb0_notop.h5\n",
      "16711680/16705208 [==============================] - 2s 0us/step\n",
      "16719872/16705208 [==============================] - 2s 0us/step\n"
     ]
    }
   ],
   "source": [
    "input_shape=(224,224,3)\n",
    "conv_base = EfficientNetB0(weights=\"imagenet\", include_top=False, input_shape=input_shape)"
   ]
  },
  {
   "cell_type": "code",
   "execution_count": 44,
   "id": "dcc7b6a5",
   "metadata": {},
   "outputs": [
    {
     "name": "stdout",
     "output_type": "stream",
     "text": [
      "['glioma_tumor', 'meningioma_tumor', 'no_tumor', 'pituitary_tumor']\n"
     ]
    }
   ],
   "source": [
    "labels=os.listdir(r'C:\\Users\\Aditi\\Desktop\\Projects\\Brain Tumor detection\\Training')\n",
    "print(labels)"
   ]
  },
  {
   "cell_type": "code",
   "execution_count": 45,
   "id": "889ef590",
   "metadata": {},
   "outputs": [],
   "source": [
    "all_files=[]\n",
    "for item in labels:\n",
    "    files=os.listdir('C:/Users/Aditi/Desktop/Projects/Brain Tumor detection/Training'+'/'+item)\n",
    "    for i in files:\n",
    "        all_files.append((item,str(item+'/'+i)))"
   ]
  },
  {
   "cell_type": "code",
   "execution_count": 46,
   "id": "4902d895",
   "metadata": {},
   "outputs": [
    {
     "data": {
      "text/plain": [
       "[('glioma_tumor', 'glioma_tumor/gg (1).jpg'),\n",
       " ('glioma_tumor', 'glioma_tumor/gg (10).jpg'),\n",
       " ('glioma_tumor', 'glioma_tumor/gg (11).jpg'),\n",
       " ('glioma_tumor', 'glioma_tumor/gg (12).jpg'),\n",
       " ('glioma_tumor', 'glioma_tumor/gg (13).jpg'),\n",
       " ('glioma_tumor', 'glioma_tumor/gg (14).jpg'),\n",
       " ('glioma_tumor', 'glioma_tumor/gg (15).jpg'),\n",
       " ('glioma_tumor', 'glioma_tumor/gg (16).jpg'),\n",
       " ('glioma_tumor', 'glioma_tumor/gg (17).jpg'),\n",
       " ('glioma_tumor', 'glioma_tumor/gg (18).jpg'),\n",
       " ('glioma_tumor', 'glioma_tumor/gg (19).jpg'),\n",
       " ('glioma_tumor', 'glioma_tumor/gg (2).jpg'),\n",
       " ('glioma_tumor', 'glioma_tumor/gg (20).jpg'),\n",
       " ('glioma_tumor', 'glioma_tumor/gg (21).jpg'),\n",
       " ('glioma_tumor', 'glioma_tumor/gg (22).jpg'),\n",
       " ('glioma_tumor', 'glioma_tumor/gg (23).jpg'),\n",
       " ('glioma_tumor', 'glioma_tumor/gg (24).jpg'),\n",
       " ('glioma_tumor', 'glioma_tumor/gg (25).jpg'),\n",
       " ('glioma_tumor', 'glioma_tumor/gg (26).jpg'),\n",
       " ('glioma_tumor', 'glioma_tumor/gg (27).jpg'),\n",
       " ('glioma_tumor', 'glioma_tumor/gg (28).jpg'),\n",
       " ('glioma_tumor', 'glioma_tumor/gg (29).jpg'),\n",
       " ('glioma_tumor', 'glioma_tumor/gg (3).jpg'),\n",
       " ('glioma_tumor', 'glioma_tumor/gg (30).jpg'),\n",
       " ('glioma_tumor', 'glioma_tumor/gg (31).jpg'),\n",
       " ('glioma_tumor', 'glioma_tumor/gg (32).jpg'),\n",
       " ('glioma_tumor', 'glioma_tumor/gg (33).jpg'),\n",
       " ('glioma_tumor', 'glioma_tumor/gg (34).jpg'),\n",
       " ('glioma_tumor', 'glioma_tumor/gg (35).jpg'),\n",
       " ('glioma_tumor', 'glioma_tumor/gg (36).jpg'),\n",
       " ('glioma_tumor', 'glioma_tumor/gg (37).jpg'),\n",
       " ('glioma_tumor', 'glioma_tumor/gg (38).jpg'),\n",
       " ('glioma_tumor', 'glioma_tumor/gg (39).jpg'),\n",
       " ('glioma_tumor', 'glioma_tumor/gg (4).jpg'),\n",
       " ('glioma_tumor', 'glioma_tumor/gg (40).jpg'),\n",
       " ('glioma_tumor', 'glioma_tumor/gg (41).jpg'),\n",
       " ('glioma_tumor', 'glioma_tumor/gg (42).jpg'),\n",
       " ('glioma_tumor', 'glioma_tumor/gg (43).jpg'),\n",
       " ('glioma_tumor', 'glioma_tumor/gg (44).jpg'),\n",
       " ('glioma_tumor', 'glioma_tumor/gg (45).jpg'),\n",
       " ('glioma_tumor', 'glioma_tumor/gg (46).jpg'),\n",
       " ('glioma_tumor', 'glioma_tumor/gg (47).jpg'),\n",
       " ('glioma_tumor', 'glioma_tumor/gg (48).jpg'),\n",
       " ('glioma_tumor', 'glioma_tumor/gg (49).jpg'),\n",
       " ('glioma_tumor', 'glioma_tumor/gg (5).jpg'),\n",
       " ('glioma_tumor', 'glioma_tumor/gg (50).jpg'),\n",
       " ('glioma_tumor', 'glioma_tumor/gg (6).jpg'),\n",
       " ('glioma_tumor', 'glioma_tumor/gg (7).jpg'),\n",
       " ('glioma_tumor', 'glioma_tumor/gg (8).jpg'),\n",
       " ('glioma_tumor', 'glioma_tumor/gg (9).jpg'),\n",
       " ('meningioma_tumor', 'meningioma_tumor/m (10).jpg'),\n",
       " ('meningioma_tumor', 'meningioma_tumor/m (11).jpg'),\n",
       " ('meningioma_tumor', 'meningioma_tumor/m (12).jpg'),\n",
       " ('meningioma_tumor', 'meningioma_tumor/m (13).jpg'),\n",
       " ('meningioma_tumor', 'meningioma_tumor/m (14).jpg'),\n",
       " ('meningioma_tumor', 'meningioma_tumor/m (15).jpg'),\n",
       " ('meningioma_tumor', 'meningioma_tumor/m (16).jpg'),\n",
       " ('meningioma_tumor', 'meningioma_tumor/m (17).jpg'),\n",
       " ('meningioma_tumor', 'meningioma_tumor/m (18).jpg'),\n",
       " ('meningioma_tumor', 'meningioma_tumor/m (19).jpg'),\n",
       " ('meningioma_tumor', 'meningioma_tumor/m (2).jpg'),\n",
       " ('meningioma_tumor', 'meningioma_tumor/m (20).jpg'),\n",
       " ('meningioma_tumor', 'meningioma_tumor/m (21).jpg'),\n",
       " ('meningioma_tumor', 'meningioma_tumor/m (22).jpg'),\n",
       " ('meningioma_tumor', 'meningioma_tumor/m (23).jpg'),\n",
       " ('meningioma_tumor', 'meningioma_tumor/m (24).jpg'),\n",
       " ('meningioma_tumor', 'meningioma_tumor/m (25).jpg'),\n",
       " ('meningioma_tumor', 'meningioma_tumor/m (26).jpg'),\n",
       " ('meningioma_tumor', 'meningioma_tumor/m (27).jpg'),\n",
       " ('meningioma_tumor', 'meningioma_tumor/m (28).jpg'),\n",
       " ('meningioma_tumor', 'meningioma_tumor/m (29).jpg'),\n",
       " ('meningioma_tumor', 'meningioma_tumor/m (3).jpg'),\n",
       " ('meningioma_tumor', 'meningioma_tumor/m (30).jpg'),\n",
       " ('meningioma_tumor', 'meningioma_tumor/m (31).jpg'),\n",
       " ('meningioma_tumor', 'meningioma_tumor/m (32).jpg'),\n",
       " ('meningioma_tumor', 'meningioma_tumor/m (33).jpg'),\n",
       " ('meningioma_tumor', 'meningioma_tumor/m (34).jpg'),\n",
       " ('meningioma_tumor', 'meningioma_tumor/m (35).jpg'),\n",
       " ('meningioma_tumor', 'meningioma_tumor/m (36).jpg'),\n",
       " ('meningioma_tumor', 'meningioma_tumor/m (37).jpg'),\n",
       " ('meningioma_tumor', 'meningioma_tumor/m (38).jpg'),\n",
       " ('meningioma_tumor', 'meningioma_tumor/m (39).jpg'),\n",
       " ('meningioma_tumor', 'meningioma_tumor/m (4).jpg'),\n",
       " ('meningioma_tumor', 'meningioma_tumor/m (40).jpg'),\n",
       " ('meningioma_tumor', 'meningioma_tumor/m (41).jpg'),\n",
       " ('meningioma_tumor', 'meningioma_tumor/m (42).jpg'),\n",
       " ('meningioma_tumor', 'meningioma_tumor/m (43).jpg'),\n",
       " ('meningioma_tumor', 'meningioma_tumor/m (44).jpg'),\n",
       " ('meningioma_tumor', 'meningioma_tumor/m (45).jpg'),\n",
       " ('meningioma_tumor', 'meningioma_tumor/m (46).jpg'),\n",
       " ('meningioma_tumor', 'meningioma_tumor/m (47).jpg'),\n",
       " ('meningioma_tumor', 'meningioma_tumor/m (48).jpg'),\n",
       " ('meningioma_tumor', 'meningioma_tumor/m (49).jpg'),\n",
       " ('meningioma_tumor', 'meningioma_tumor/m (5).jpg'),\n",
       " ('meningioma_tumor', 'meningioma_tumor/m (50).jpg'),\n",
       " ('meningioma_tumor', 'meningioma_tumor/m (51).jpg'),\n",
       " ('meningioma_tumor', 'meningioma_tumor/m (6).jpg'),\n",
       " ('meningioma_tumor', 'meningioma_tumor/m (7).jpg'),\n",
       " ('meningioma_tumor', 'meningioma_tumor/m (8).jpg'),\n",
       " ('meningioma_tumor', 'meningioma_tumor/m (9).jpg'),\n",
       " ('no_tumor', 'no_tumor/1.jpg'),\n",
       " ('no_tumor', 'no_tumor/2.jpg'),\n",
       " ('no_tumor', 'no_tumor/3.jpg'),\n",
       " ('no_tumor', 'no_tumor/4.jpg'),\n",
       " ('no_tumor', 'no_tumor/5.jpg'),\n",
       " ('no_tumor', 'no_tumor/6.jpg'),\n",
       " ('no_tumor', 'no_tumor/7.jpg'),\n",
       " ('no_tumor', 'no_tumor/8.jpg'),\n",
       " ('no_tumor', 'no_tumor/image (10).jpg'),\n",
       " ('no_tumor', 'no_tumor/image (11).jpg'),\n",
       " ('no_tumor', 'no_tumor/image (12).jpg'),\n",
       " ('no_tumor', 'no_tumor/image (13).jpg'),\n",
       " ('no_tumor', 'no_tumor/image (14).jpg'),\n",
       " ('no_tumor', 'no_tumor/image (15).jpg'),\n",
       " ('no_tumor', 'no_tumor/image (16).jpg'),\n",
       " ('no_tumor', 'no_tumor/image (17).jpg'),\n",
       " ('no_tumor', 'no_tumor/image (18).jpg'),\n",
       " ('no_tumor', 'no_tumor/image (19).jpg'),\n",
       " ('no_tumor', 'no_tumor/image (20).jpg'),\n",
       " ('no_tumor', 'no_tumor/image (21).jpg'),\n",
       " ('no_tumor', 'no_tumor/image (22).jpg'),\n",
       " ('no_tumor', 'no_tumor/image (23).jpg'),\n",
       " ('no_tumor', 'no_tumor/image (24).jpg'),\n",
       " ('no_tumor', 'no_tumor/image (25).jpg'),\n",
       " ('no_tumor', 'no_tumor/image (26).jpg'),\n",
       " ('no_tumor', 'no_tumor/image (27).jpg'),\n",
       " ('no_tumor', 'no_tumor/image (28).jpg'),\n",
       " ('no_tumor', 'no_tumor/image (29).jpg'),\n",
       " ('no_tumor', 'no_tumor/image (30).jpg'),\n",
       " ('no_tumor', 'no_tumor/image (31).jpg'),\n",
       " ('no_tumor', 'no_tumor/image (32).jpg'),\n",
       " ('no_tumor', 'no_tumor/image (33).jpg'),\n",
       " ('no_tumor', 'no_tumor/image (34).jpg'),\n",
       " ('no_tumor', 'no_tumor/image (35).jpg'),\n",
       " ('no_tumor', 'no_tumor/image (36).jpg'),\n",
       " ('no_tumor', 'no_tumor/image (37).jpg'),\n",
       " ('no_tumor', 'no_tumor/image (38).jpg'),\n",
       " ('no_tumor', 'no_tumor/image (39).jpg'),\n",
       " ('no_tumor', 'no_tumor/image (4).jpg'),\n",
       " ('no_tumor', 'no_tumor/image (40).jpg'),\n",
       " ('no_tumor', 'no_tumor/image (41).jpg'),\n",
       " ('no_tumor', 'no_tumor/image (42).jpg'),\n",
       " ('no_tumor', 'no_tumor/image (43).jpg'),\n",
       " ('no_tumor', 'no_tumor/image (44).jpg'),\n",
       " ('no_tumor', 'no_tumor/image (45).jpg'),\n",
       " ('no_tumor', 'no_tumor/image (5).jpg'),\n",
       " ('no_tumor', 'no_tumor/image (6).jpg'),\n",
       " ('no_tumor', 'no_tumor/image (7).jpg'),\n",
       " ('no_tumor', 'no_tumor/image (8).jpg'),\n",
       " ('no_tumor', 'no_tumor/image (9).jpg'),\n",
       " ('pituitary_tumor', 'pituitary_tumor/p (1).jpg'),\n",
       " ('pituitary_tumor', 'pituitary_tumor/p (10).jpg'),\n",
       " ('pituitary_tumor', 'pituitary_tumor/p (11).jpg'),\n",
       " ('pituitary_tumor', 'pituitary_tumor/p (12).jpg'),\n",
       " ('pituitary_tumor', 'pituitary_tumor/p (13).jpg'),\n",
       " ('pituitary_tumor', 'pituitary_tumor/p (14).jpg'),\n",
       " ('pituitary_tumor', 'pituitary_tumor/p (15).jpg'),\n",
       " ('pituitary_tumor', 'pituitary_tumor/p (16).jpg'),\n",
       " ('pituitary_tumor', 'pituitary_tumor/p (17).jpg'),\n",
       " ('pituitary_tumor', 'pituitary_tumor/p (18).jpg'),\n",
       " ('pituitary_tumor', 'pituitary_tumor/p (19).jpg'),\n",
       " ('pituitary_tumor', 'pituitary_tumor/p (2).jpg'),\n",
       " ('pituitary_tumor', 'pituitary_tumor/p (20).jpg'),\n",
       " ('pituitary_tumor', 'pituitary_tumor/p (21).jpg'),\n",
       " ('pituitary_tumor', 'pituitary_tumor/p (22).jpg'),\n",
       " ('pituitary_tumor', 'pituitary_tumor/p (23).jpg'),\n",
       " ('pituitary_tumor', 'pituitary_tumor/p (24).jpg'),\n",
       " ('pituitary_tumor', 'pituitary_tumor/p (25).jpg'),\n",
       " ('pituitary_tumor', 'pituitary_tumor/p (26).jpg'),\n",
       " ('pituitary_tumor', 'pituitary_tumor/p (27).jpg'),\n",
       " ('pituitary_tumor', 'pituitary_tumor/p (28).jpg'),\n",
       " ('pituitary_tumor', 'pituitary_tumor/p (29).jpg'),\n",
       " ('pituitary_tumor', 'pituitary_tumor/p (3).jpg'),\n",
       " ('pituitary_tumor', 'pituitary_tumor/p (30).jpg'),\n",
       " ('pituitary_tumor', 'pituitary_tumor/p (31).jpg'),\n",
       " ('pituitary_tumor', 'pituitary_tumor/p (32).jpg'),\n",
       " ('pituitary_tumor', 'pituitary_tumor/p (33).jpg'),\n",
       " ('pituitary_tumor', 'pituitary_tumor/p (34).jpg'),\n",
       " ('pituitary_tumor', 'pituitary_tumor/p (35).jpg'),\n",
       " ('pituitary_tumor', 'pituitary_tumor/p (36).jpg'),\n",
       " ('pituitary_tumor', 'pituitary_tumor/p (37).jpg'),\n",
       " ('pituitary_tumor', 'pituitary_tumor/p (38).jpg'),\n",
       " ('pituitary_tumor', 'pituitary_tumor/p (39).jpg'),\n",
       " ('pituitary_tumor', 'pituitary_tumor/p (4).jpg'),\n",
       " ('pituitary_tumor', 'pituitary_tumor/p (40).jpg'),\n",
       " ('pituitary_tumor', 'pituitary_tumor/p (41).jpg'),\n",
       " ('pituitary_tumor', 'pituitary_tumor/p (42).jpg'),\n",
       " ('pituitary_tumor', 'pituitary_tumor/p (43).jpg'),\n",
       " ('pituitary_tumor', 'pituitary_tumor/p (44).jpg'),\n",
       " ('pituitary_tumor', 'pituitary_tumor/p (45).jpg'),\n",
       " ('pituitary_tumor', 'pituitary_tumor/p (46).jpg'),\n",
       " ('pituitary_tumor', 'pituitary_tumor/p (47).jpg'),\n",
       " ('pituitary_tumor', 'pituitary_tumor/p (48).jpg'),\n",
       " ('pituitary_tumor', 'pituitary_tumor/p (49).jpg'),\n",
       " ('pituitary_tumor', 'pituitary_tumor/p (5).jpg'),\n",
       " ('pituitary_tumor', 'pituitary_tumor/p (50).jpg'),\n",
       " ('pituitary_tumor', 'pituitary_tumor/p (6).jpg'),\n",
       " ('pituitary_tumor', 'pituitary_tumor/p (7).jpg'),\n",
       " ('pituitary_tumor', 'pituitary_tumor/p (8).jpg'),\n",
       " ('pituitary_tumor', 'pituitary_tumor/p (9).jpg')]"
      ]
     },
     "execution_count": 46,
     "metadata": {},
     "output_type": "execute_result"
    }
   ],
   "source": [
    "all_files"
   ]
  },
  {
   "cell_type": "code",
   "execution_count": 47,
   "id": "46fc0aaf",
   "metadata": {},
   "outputs": [],
   "source": [
    "data=pd.DataFrame(data=all_files,columns=['Labels','Image'])"
   ]
  },
  {
   "cell_type": "code",
   "execution_count": 48,
   "id": "f5d49caa",
   "metadata": {},
   "outputs": [
    {
     "data": {
      "text/html": [
       "<div>\n",
       "<style scoped>\n",
       "    .dataframe tbody tr th:only-of-type {\n",
       "        vertical-align: middle;\n",
       "    }\n",
       "\n",
       "    .dataframe tbody tr th {\n",
       "        vertical-align: top;\n",
       "    }\n",
       "\n",
       "    .dataframe thead th {\n",
       "        text-align: right;\n",
       "    }\n",
       "</style>\n",
       "<table border=\"1\" class=\"dataframe\">\n",
       "  <thead>\n",
       "    <tr style=\"text-align: right;\">\n",
       "      <th></th>\n",
       "      <th>Labels</th>\n",
       "      <th>Image</th>\n",
       "    </tr>\n",
       "  </thead>\n",
       "  <tbody>\n",
       "    <tr>\n",
       "      <th>0</th>\n",
       "      <td>glioma_tumor</td>\n",
       "      <td>glioma_tumor/gg (1).jpg</td>\n",
       "    </tr>\n",
       "    <tr>\n",
       "      <th>1</th>\n",
       "      <td>glioma_tumor</td>\n",
       "      <td>glioma_tumor/gg (10).jpg</td>\n",
       "    </tr>\n",
       "    <tr>\n",
       "      <th>2</th>\n",
       "      <td>glioma_tumor</td>\n",
       "      <td>glioma_tumor/gg (11).jpg</td>\n",
       "    </tr>\n",
       "    <tr>\n",
       "      <th>3</th>\n",
       "      <td>glioma_tumor</td>\n",
       "      <td>glioma_tumor/gg (12).jpg</td>\n",
       "    </tr>\n",
       "    <tr>\n",
       "      <th>4</th>\n",
       "      <td>glioma_tumor</td>\n",
       "      <td>glioma_tumor/gg (13).jpg</td>\n",
       "    </tr>\n",
       "    <tr>\n",
       "      <th>...</th>\n",
       "      <td>...</td>\n",
       "      <td>...</td>\n",
       "    </tr>\n",
       "    <tr>\n",
       "      <th>195</th>\n",
       "      <td>pituitary_tumor</td>\n",
       "      <td>pituitary_tumor/p (50).jpg</td>\n",
       "    </tr>\n",
       "    <tr>\n",
       "      <th>196</th>\n",
       "      <td>pituitary_tumor</td>\n",
       "      <td>pituitary_tumor/p (6).jpg</td>\n",
       "    </tr>\n",
       "    <tr>\n",
       "      <th>197</th>\n",
       "      <td>pituitary_tumor</td>\n",
       "      <td>pituitary_tumor/p (7).jpg</td>\n",
       "    </tr>\n",
       "    <tr>\n",
       "      <th>198</th>\n",
       "      <td>pituitary_tumor</td>\n",
       "      <td>pituitary_tumor/p (8).jpg</td>\n",
       "    </tr>\n",
       "    <tr>\n",
       "      <th>199</th>\n",
       "      <td>pituitary_tumor</td>\n",
       "      <td>pituitary_tumor/p (9).jpg</td>\n",
       "    </tr>\n",
       "  </tbody>\n",
       "</table>\n",
       "<p>200 rows × 2 columns</p>\n",
       "</div>"
      ],
      "text/plain": [
       "              Labels                       Image\n",
       "0       glioma_tumor     glioma_tumor/gg (1).jpg\n",
       "1       glioma_tumor    glioma_tumor/gg (10).jpg\n",
       "2       glioma_tumor    glioma_tumor/gg (11).jpg\n",
       "3       glioma_tumor    glioma_tumor/gg (12).jpg\n",
       "4       glioma_tumor    glioma_tumor/gg (13).jpg\n",
       "..               ...                         ...\n",
       "195  pituitary_tumor  pituitary_tumor/p (50).jpg\n",
       "196  pituitary_tumor   pituitary_tumor/p (6).jpg\n",
       "197  pituitary_tumor   pituitary_tumor/p (7).jpg\n",
       "198  pituitary_tumor   pituitary_tumor/p (8).jpg\n",
       "199  pituitary_tumor   pituitary_tumor/p (9).jpg\n",
       "\n",
       "[200 rows x 2 columns]"
      ]
     },
     "execution_count": 48,
     "metadata": {},
     "output_type": "execute_result"
    }
   ],
   "source": [
    "data"
   ]
  },
  {
   "cell_type": "code",
   "execution_count": 53,
   "id": "155146ff",
   "metadata": {},
   "outputs": [],
   "source": [
    "images=[]\n",
    "label=[]\n",
    "path='C:/Users/Aditi/Desktop/Projects/Brain Tumor detection/Training'\n",
    "for i in range(0,len(all_files)):\n",
    "    filepath=str(path+'/'+all_files[i][1])\n",
    "    img=(cv2.imread(filepath))\n",
    "    img=cv2.resize(img,(224,224))\n",
    "    images.append(img)\n",
    "    label.append(all_files[i][0])"
   ]
  },
  {
   "cell_type": "code",
   "execution_count": 54,
   "id": "c3b8bbaf",
   "metadata": {},
   "outputs": [],
   "source": [
    "images=np.array(images)"
   ]
  },
  {
   "cell_type": "code",
   "execution_count": 55,
   "id": "35cdbbe5",
   "metadata": {},
   "outputs": [
    {
     "data": {
      "text/plain": [
       "(200, 224, 224, 3)"
      ]
     },
     "execution_count": 55,
     "metadata": {},
     "output_type": "execute_result"
    }
   ],
   "source": [
    "images.shape"
   ]
  },
  {
   "cell_type": "code",
   "execution_count": 56,
   "id": "e3a6c556",
   "metadata": {},
   "outputs": [
    {
     "name": "stdout",
     "output_type": "stream",
     "text": [
      "     glioma_tumor  meningioma_tumor  no_tumor  pituitary_tumor\n",
      "0               1                 0         0                0\n",
      "1               1                 0         0                0\n",
      "2               1                 0         0                0\n",
      "3               1                 0         0                0\n",
      "4               1                 0         0                0\n",
      "..            ...               ...       ...              ...\n",
      "195             0                 0         0                1\n",
      "196             0                 0         0                1\n",
      "197             0                 0         0                1\n",
      "198             0                 0         0                1\n",
      "199             0                 0         0                1\n",
      "\n",
      "[200 rows x 4 columns]\n"
     ]
    }
   ],
   "source": [
    "y=pd.get_dummies(data.Labels)\n",
    "print(y)"
   ]
  },
  {
   "cell_type": "markdown",
   "id": "86f690f9",
   "metadata": {},
   "source": [
    "# Training"
   ]
  },
  {
   "cell_type": "code",
   "execution_count": 57,
   "id": "89181856",
   "metadata": {},
   "outputs": [],
   "source": [
    "model = models.Sequential()\n",
    "model.add(conv_base)\n",
    "model.add(layers.GlobalMaxPooling2D(name=\"gap\"))"
   ]
  },
  {
   "cell_type": "code",
   "execution_count": 58,
   "id": "4176dd8e",
   "metadata": {},
   "outputs": [],
   "source": [
    "model.add(layers.Dropout(0.2, name=\"dropout_out\"))"
   ]
  },
  {
   "cell_type": "code",
   "execution_count": 59,
   "id": "e2681168",
   "metadata": {},
   "outputs": [],
   "source": [
    "# model.add(layers.Dense(4, activation=\"softmax\", name=\"fc_out\"))\n",
    "# conv_base.trainable = False\n",
    "\n",
    "model.add(layers.Dense(4, activation=\"softmax\"))\n",
    "conv_base.trainable = False"
   ]
  },
  {
   "cell_type": "code",
   "execution_count": 60,
   "id": "601ee5af",
   "metadata": {},
   "outputs": [],
   "source": [
    "from sklearn.model_selection import train_test_split\n",
    "\n",
    "x_train,x_test,y_train,y_test=train_test_split(images,y,shuffle=True,random_state=42,test_size=0.4)"
   ]
  },
  {
   "cell_type": "code",
   "execution_count": 61,
   "id": "624234f0",
   "metadata": {},
   "outputs": [
    {
     "name": "stdout",
     "output_type": "stream",
     "text": [
      "(120, 224, 224, 3)\n",
      "(120, 4)\n",
      "(80, 224, 224, 3)\n",
      "(80, 4)\n"
     ]
    }
   ],
   "source": [
    "print(x_train.shape)\n",
    "print(y_train.shape)\n",
    "print(x_test.shape)\n",
    "print(y_test.shape)"
   ]
  },
  {
   "cell_type": "code",
   "execution_count": 62,
   "id": "5177cc88",
   "metadata": {},
   "outputs": [],
   "source": [
    "# model.compile(\n",
    "#     loss=\"categorical_crossentropy\",\n",
    "#     optimizer=optimizers.RMSprop(lr=2e-5),\n",
    "#     metrics=[\"acc\"],\n",
    "# )\n",
    "\n",
    "model.compile(\n",
    "    loss=\"categorical_crossentropy\",\n",
    "    optimizer=\"adam\",\n",
    "    metrics=[\"acc\"],\n",
    ")"
   ]
  },
  {
   "cell_type": "code",
   "execution_count": 63,
   "id": "f567e8fe",
   "metadata": {},
   "outputs": [
    {
     "name": "stdout",
     "output_type": "stream",
     "text": [
      "Epoch 1/5\n",
      "4/4 - 11s - loss: 3.1070 - acc: 0.3167 - 11s/epoch - 3s/step\n",
      "Epoch 2/5\n",
      "4/4 - 4s - loss: 2.1304 - acc: 0.4167 - 4s/epoch - 970ms/step\n",
      "Epoch 3/5\n",
      "4/4 - 4s - loss: 1.6592 - acc: 0.4667 - 4s/epoch - 973ms/step\n",
      "Epoch 4/5\n",
      "4/4 - 4s - loss: 1.2117 - acc: 0.5833 - 4s/epoch - 989ms/step\n",
      "Epoch 5/5\n",
      "4/4 - 4s - loss: 0.8931 - acc: 0.7250 - 4s/epoch - 998ms/step\n"
     ]
    }
   ],
   "source": [
    "history = model.fit(x_train, y_train, epochs=5, verbose=2)"
   ]
  },
  {
   "cell_type": "code",
   "execution_count": 64,
   "id": "c59d1802",
   "metadata": {},
   "outputs": [
    {
     "name": "stdout",
     "output_type": "stream",
     "text": [
      "3/3 [==============================] - 4s 773ms/step - loss: 0.7951 - acc: 0.7750\n"
     ]
    }
   ],
   "source": [
    "test_loss, test_acc = model.evaluate(x_test, y_test, verbose=1)"
   ]
  },
  {
   "cell_type": "code",
   "execution_count": 65,
   "id": "7d11d5b0",
   "metadata": {},
   "outputs": [
    {
     "name": "stdout",
     "output_type": "stream",
     "text": [
      "Test Loss:  0.7951260805130005\n",
      "Test Accuracy:  77.5 %\n"
     ]
    }
   ],
   "source": [
    "print(\"Test Loss: \",test_loss)\n",
    "print(\"Test Accuracy: \",round(test_acc*100,2),\"%\")"
   ]
  },
  {
   "cell_type": "markdown",
   "id": "bc6914ae",
   "metadata": {},
   "source": [
    "# Validation"
   ]
  },
  {
   "cell_type": "code",
   "execution_count": 66,
   "id": "a495a738",
   "metadata": {},
   "outputs": [
    {
     "name": "stdout",
     "output_type": "stream",
     "text": [
      "3/3 [==============================] - 3s 766ms/step - loss: 0.7951 - acc: 0.7750\n"
     ]
    }
   ],
   "source": [
    "y_pred=model.predict(x_test)\n",
    "score=model.evaluate(x_test, y_test,verbose=1)"
   ]
  },
  {
   "cell_type": "markdown",
   "id": "f067a25d",
   "metadata": {},
   "source": [
    "# Prediction"
   ]
  },
  {
   "cell_type": "code",
   "execution_count": 67,
   "id": "83f83f5b",
   "metadata": {},
   "outputs": [],
   "source": [
    "import easygui\n",
    "import imageio"
   ]
  },
  {
   "cell_type": "code",
   "execution_count": 68,
   "id": "ec4bf36d",
   "metadata": {},
   "outputs": [
    {
     "name": "stdout",
     "output_type": "stream",
     "text": [
      "Input patient name  Miss Singhania\n"
     ]
    }
   ],
   "source": [
    "name=input(\"Input patient name  \")"
   ]
  },
  {
   "cell_type": "code",
   "execution_count": 82,
   "id": "d9735e91",
   "metadata": {},
   "outputs": [
    {
     "name": "stdout",
     "output_type": "stream",
     "text": [
      "Submit your image for diagnosis\n"
     ]
    }
   ],
   "source": [
    "print(\"Submit your image for diagnosis\")\n",
    "flag=0\n",
    "while(flag==0):    \n",
    "    ImagePath=easygui.fileopenbox()\n",
    "    img=cv2.imread(ImagePath)\n",
    "    if img is None:\n",
    "            print(\"Can not find any image. Choose appropriate file\")\n",
    "            continue\n",
    "    else:\n",
    "        flag=1"
   ]
  },
  {
   "cell_type": "code",
   "execution_count": 83,
   "id": "7421cdfd",
   "metadata": {},
   "outputs": [
    {
     "data": {
      "text/plain": [
       "(512, 512, 3)"
      ]
     },
     "execution_count": 83,
     "metadata": {},
     "output_type": "execute_result"
    }
   ],
   "source": [
    "img.shape"
   ]
  },
  {
   "cell_type": "code",
   "execution_count": 84,
   "id": "ff503b86",
   "metadata": {},
   "outputs": [],
   "source": [
    "img=cv2.resize(img,(224,224))"
   ]
  },
  {
   "cell_type": "code",
   "execution_count": 85,
   "id": "e10bbdba",
   "metadata": {},
   "outputs": [
    {
     "data": {
      "text/plain": [
       "(224, 224, 3)"
      ]
     },
     "execution_count": 85,
     "metadata": {},
     "output_type": "execute_result"
    }
   ],
   "source": [
    "img.shape"
   ]
  },
  {
   "cell_type": "code",
   "execution_count": 86,
   "id": "23d41d3e",
   "metadata": {},
   "outputs": [
    {
     "data": {
      "text/plain": [
       "array([[[0, 0, 0],\n",
       "        [0, 0, 0],\n",
       "        [0, 0, 0],\n",
       "        ...,\n",
       "        [0, 0, 0],\n",
       "        [0, 0, 0],\n",
       "        [0, 0, 0]],\n",
       "\n",
       "       [[0, 0, 0],\n",
       "        [0, 0, 0],\n",
       "        [0, 0, 0],\n",
       "        ...,\n",
       "        [0, 0, 0],\n",
       "        [0, 0, 0],\n",
       "        [0, 0, 0]],\n",
       "\n",
       "       [[0, 0, 0],\n",
       "        [0, 0, 0],\n",
       "        [0, 0, 0],\n",
       "        ...,\n",
       "        [0, 0, 0],\n",
       "        [0, 0, 0],\n",
       "        [0, 0, 0]],\n",
       "\n",
       "       ...,\n",
       "\n",
       "       [[0, 0, 0],\n",
       "        [0, 0, 0],\n",
       "        [0, 0, 0],\n",
       "        ...,\n",
       "        [0, 0, 0],\n",
       "        [0, 0, 0],\n",
       "        [0, 0, 0]],\n",
       "\n",
       "       [[0, 0, 0],\n",
       "        [0, 0, 0],\n",
       "        [0, 0, 0],\n",
       "        ...,\n",
       "        [0, 0, 0],\n",
       "        [0, 0, 0],\n",
       "        [0, 0, 0]],\n",
       "\n",
       "       [[0, 0, 0],\n",
       "        [0, 0, 0],\n",
       "        [0, 0, 0],\n",
       "        ...,\n",
       "        [0, 0, 0],\n",
       "        [0, 0, 0],\n",
       "        [0, 0, 0]]], dtype=uint8)"
      ]
     },
     "execution_count": 86,
     "metadata": {},
     "output_type": "execute_result"
    }
   ],
   "source": [
    "img"
   ]
  },
  {
   "cell_type": "code",
   "execution_count": 87,
   "id": "25875a20",
   "metadata": {},
   "outputs": [],
   "source": [
    "from PIL import Image as im"
   ]
  },
  {
   "cell_type": "code",
   "execution_count": 88,
   "id": "11d44de0",
   "metadata": {},
   "outputs": [],
   "source": [
    "image=im.fromarray(img)"
   ]
  },
  {
   "cell_type": "code",
   "execution_count": 89,
   "id": "315ab96a",
   "metadata": {},
   "outputs": [
    {
     "data": {
      "image/png": "[encoded data removed]",
      "text/plain": [
       "<PIL.Image.Image image mode=RGB size=224x224 at 0x2944ACD79D0>"
      ]
     },
     "execution_count": 89,
     "metadata": {},
     "output_type": "execute_result"
    }
   ],
   "source": [
    "image"
   ]
  },
  {
   "cell_type": "code",
   "execution_count": 90,
   "id": "307d9d90",
   "metadata": {},
   "outputs": [],
   "source": [
    "img=cv2.resize(img,(224,224))"
   ]
  },
  {
   "cell_type": "code",
   "execution_count": 91,
   "id": "55b0c0ee",
   "metadata": {},
   "outputs": [
    {
     "data": {
      "text/plain": [
       "(224, 224, 3)"
      ]
     },
     "execution_count": 91,
     "metadata": {},
     "output_type": "execute_result"
    }
   ],
   "source": [
    "img.shape"
   ]
  },
  {
   "cell_type": "code",
   "execution_count": 92,
   "id": "696c3b00",
   "metadata": {},
   "outputs": [],
   "source": [
    "img=img[np.newaxis,...]"
   ]
  },
  {
   "cell_type": "code",
   "execution_count": 93,
   "id": "d6bdf9a4",
   "metadata": {},
   "outputs": [
    {
     "data": {
      "text/plain": [
       "(1, 224, 224, 3)"
      ]
     },
     "execution_count": 93,
     "metadata": {},
     "output_type": "execute_result"
    }
   ],
   "source": [
    "img.shape"
   ]
  },
  {
   "cell_type": "code",
   "execution_count": 94,
   "id": "4053b9f5",
   "metadata": {},
   "outputs": [],
   "source": [
    "ans=model.predict(img)"
   ]
  },
  {
   "cell_type": "code",
   "execution_count": 95,
   "id": "a7e1fba3",
   "metadata": {},
   "outputs": [
    {
     "data": {
      "text/plain": [
       "array([[0.02060004, 0.9630418 , 0.00610753, 0.01025072]], dtype=float32)"
      ]
     },
     "execution_count": 95,
     "metadata": {},
     "output_type": "execute_result"
    }
   ],
   "source": [
    "ans"
   ]
  },
  {
   "cell_type": "code",
   "execution_count": 96,
   "id": "4c03795f",
   "metadata": {},
   "outputs": [],
   "source": [
    "index=np.argmax(ans)"
   ]
  },
  {
   "cell_type": "code",
   "execution_count": 97,
   "id": "21d2d581",
   "metadata": {},
   "outputs": [
    {
     "data": {
      "text/plain": [
       "1"
      ]
     },
     "execution_count": 97,
     "metadata": {},
     "output_type": "execute_result"
    }
   ],
   "source": [
    "index"
   ]
  },
  {
   "cell_type": "code",
   "execution_count": 98,
   "id": "d7bb2619",
   "metadata": {},
   "outputs": [],
   "source": [
    "accuracy=round((np.amax(ans)*100),2)"
   ]
  },
  {
   "cell_type": "code",
   "execution_count": 99,
   "id": "16889571",
   "metadata": {},
   "outputs": [
    {
     "name": "stdout",
     "output_type": "stream",
     "text": [
      "There is a 96.3% chance that Miss Singhania suffers from Meningioma Tumor.\n"
     ]
    }
   ],
   "source": [
    "if index==0:\n",
    "    tumor=\"Glioma Tumor\"\n",
    "elif index==1:\n",
    "    tumor=\"Meningioma Tumor\"\n",
    "elif index==2:\n",
    "    tumor=\"No Tumor\"\n",
    "else:\n",
    "    tumor=\"Pitutary Tumor\"\n",
    "print(\"There is a {percent}% chance that {name} suffers from {tumor}.\".format(percent=accuracy,name=name,tumor=tumor))"
   ]
  }
 ],
 "metadata": {
  "kernelspec": {
   "display_name": "Python 3 (ipykernel)",
   "language": "python",
   "name": "python3"
  },
  "language_info": {
   "codemirror_mode": {
    "name": "ipython",
    "version": 3
   },
   "file_extension": ".py",
   "mimetype": "text/x-python",
   "name": "python",
   "nbconvert_exporter": "python",
   "pygments_lexer": "ipython3",
   "version": "3.8.8"
  }
 },
 "nbformat": 4,
 "nbformat_minor": 5
}
